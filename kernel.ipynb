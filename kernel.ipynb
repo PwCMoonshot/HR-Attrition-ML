{
  "cells": [
    {
      "metadata": {
        "_uuid": "8f2839f25d086af736a60e9eeb907d3b93b6e0e5",
        "_cell_guid": "b1076dfc-b9ad-4769-8c92-a6c4dae69d19",
        "trusted": true
      },
      "cell_type": "code",
      "source": "import numpy as np \nimport pandas as pd \nimport seaborn as sns\nimport matplotlib.pyplot as plt\n%matplotlib inline\n\nfrom sklearn.model_selection import train_test_split, cross_val_score, GridSearchCV\nfrom sklearn.pipeline import make_pipeline\nfrom sklearn.preprocessing import StandardScaler\nfrom sklearn.ensemble import RandomForestClassifier\nfrom sklearn.neighbors import KNeighborsClassifier\nfrom sklearn.svm import SVC\nfrom sklearn.metrics import confusion_matrix, roc_auc_score, roc_curve\n\nimport os\nprint(os.listdir(\"../input\"))",
      "execution_count": null,
      "outputs": []
    },
    {
      "metadata": {
        "trusted": true,
        "_uuid": "3efd60403b92c9a9a192030027f385f23880d9ba"
      },
      "cell_type": "code",
      "source": "# Util function(s)\n\ndef print_matrix(model, X_test, y_test, xlabel='Predicted', ylabel='True class', title=''):\n    y_pred = model.predict(X_test)\n    matrix = confusion_matrix(y_pred, y_test, [1,0])\n    sns.heatmap(matrix, annot=True, fmt='.2f', xticklabels=['Left', 'Stayed'], yticklabels=['Left', 'Stayed'])\n    plt.ylabel(ylabel)\n    plt.xlabel(xlabel)\n    plt.title(title)\n    plt.show()\n    \ndef print_roc(model, X_test, y_test, label='', xlabel='False Positive Rate', ylabel='True Positive Rate', title=''):\n    y_pred = model.predict_proba(X_test)[:, 1]\n    fpr_lm, tpr_lm, _ = roc_curve(y_test, y_pred)\n    plt.plot(fpr_lm, tpr_lm, label=label)\n    plt.plot([0, 1], [0, 1], 'k--')\n    plt.xlabel(xlabel)\n    plt.ylabel(ylabel)\n    plt.title(title)\n    plt.legend(loc='best')\n    plt.legend()\n    plt.grid()\n    plt.show()",
      "execution_count": null,
      "outputs": []
    },
    {
      "metadata": {
        "_uuid": "0257bab356a9b64d62a2010fdfe8c2f5dc2f357f"
      },
      "cell_type": "markdown",
      "source": "## About Features"
    },
    {
      "metadata": {
        "_uuid": "75b2beda7b927356506752093ab6813447c69243"
      },
      "cell_type": "markdown",
      "source": " - satisfaction_level: Level of satisfaction {0–1}.\n - last_evaluationTime: Time since last performance evaluation (in years).\n - number_project: Number of projects completed while at work.\n - average_montly_hours: Average monthly hours at workplace.\n - time_spend_company: Number of years spent in the company.\n - Work_accident: Whether the employee had a workplace accident.\n - left: Whether the employee left the workplace or not {0, 1}.\n - promotion_last_5years: Whether the employee was promoted in the last five years.\n - sales: Department the employee works for.\n - salary: Relative level of salary {low, medium, high}."
    },
    {
      "metadata": {
        "_uuid": "969da5099f5ed549996cc0306755836570aaa9a7"
      },
      "cell_type": "markdown",
      "source": "## Importing Dataset"
    },
    {
      "metadata": {
        "_cell_guid": "79c7e3d0-c299-4dcb-8224-4455121ee9b0",
        "_uuid": "d629ff2d2480ee46fbb7e2d37f6b5fab8052498a",
        "trusted": true
      },
      "cell_type": "code",
      "source": "df = pd.read_csv('../input/HR_comma_sep.csv')\ndf.head()\ndFrame = df",
      "execution_count": null,
      "outputs": []
    },
    {
      "metadata": {
        "trusted": true,
        "_uuid": "5363eb4b650ead3bd4c5ddcd7388258d3777d3de"
      },
      "cell_type": "code",
      "source": "print(df.shape)\nprint()\nprint(df.dtypes)\nprint()\nprint(df.isnull().sum())",
      "execution_count": null,
      "outputs": []
    },
    {
      "metadata": {
        "_uuid": "d6502696bcc8f84c70b13aeac5efbee18fece4fd"
      },
      "cell_type": "markdown",
      "source": "## Data Preprocessing"
    },
    {
      "metadata": {
        "trusted": true,
        "_uuid": "45a6e1bfedc39d9629444a63f9662f3805ebb16e"
      },
      "cell_type": "code",
      "source": "df.rename(columns={\"sales\":\"department\"}, inplace=True)",
      "execution_count": null,
      "outputs": []
    },
    {
      "metadata": {
        "trusted": true,
        "_uuid": "f103a443ad3d1dc8b78f1a96f197b218095f52d8"
      },
      "cell_type": "code",
      "source": "#Mapping categorical salary\ndf.salary = df.salary.map({\"low\": 0, \"medium\": 1, \"high\": 2})",
      "execution_count": null,
      "outputs": []
    },
    {
      "metadata": {
        "trusted": true,
        "_uuid": "9ba82d9f61c475030ee7ab136ec1134df387cf11"
      },
      "cell_type": "code",
      "source": "df.head()",
      "execution_count": null,
      "outputs": []
    },
    {
      "metadata": {
        "trusted": true,
        "_uuid": "98cf1e8a5446dc51ebec6c79b51943f66401893a",
        "scrolled": true
      },
      "cell_type": "code",
      "source": "df.groupby(\"left\").mean()",
      "execution_count": null,
      "outputs": []
    },
    {
      "metadata": {
        "_uuid": "b63d782d4023f24c923b0410c47373215c2d746b"
      },
      "cell_type": "markdown",
      "source": "## Exploratory Data Analysis"
    },
    {
      "metadata": {
        "trusted": true,
        "_uuid": "b2ac2c3cf135590a14a2872a8185cf1a52ff84c9"
      },
      "cell_type": "code",
      "source": "pd.crosstab(df.department, df.left).plot(kind=\"bar\")\nplt.title(\"Turnover Frequency for Department\")\nplt.xlabel(\"Department\")\nplt.ylabel(\"Frequency of Turnover\")\nplt.show()",
      "execution_count": null,
      "outputs": []
    },
    {
      "metadata": {
        "trusted": true,
        "_uuid": "371562f7867163fbbe8a0b7c833ccb9a0e0653fb"
      },
      "cell_type": "code",
      "source": "sns.countplot(df.left)\nplt.xticks((0, 1), [\"Didn't leave\", \"Left\"])\nplt.xlabel(\"Class counts\")\nplt.ylabel(\"Count\")\nplt.show()",
      "execution_count": null,
      "outputs": []
    },
    {
      "metadata": {
        "trusted": true,
        "_uuid": "318a682a4f285f7b34187b7477cfff3fd56458df"
      },
      "cell_type": "code",
      "source": "pd.crosstab(df.salary, df.left).div(pd.crosstab(df.salary, df.left).sum(1).astype(float), axis=0).plot(kind='bar', stacked=True)\nplt.xticks((0, 1, 2), [\"High\", \"Low\", \"Medium\"])\nplt.title(\"Stacked Bar Chart of Salary Level vs Turnover\")\nplt.xlabel(\"Salary Level\")\nplt.ylabel(\"Proportion of Employees\")\nplt.show()",
      "execution_count": null,
      "outputs": []
    },
    {
      "metadata": {
        "trusted": true,
        "_uuid": "98a640d817efb871aad724f4f5e630c8760cafe5"
      },
      "cell_type": "code",
      "source": "plt.pie(df.department.value_counts().values, labels=df.department.value_counts().index)\nplt.legend()\nplt.axis(\"equal\")\nplt.show()",
      "execution_count": null,
      "outputs": []
    },
    {
      "metadata": {
        "trusted": true,
        "_uuid": "8fe3c0e82708741ab11600c70e2674afcf87ffcd"
      },
      "cell_type": "code",
      "source": "pd.crosstab(df.left, df.salary).div(pd.crosstab(df.left, df.salary).sum(1).astype(float), axis=0).plot(kind='bar', stacked=True)\nplt.title(\"Stacked Chart of Salary vs Class\")\nplt.xlabel(\"Class\")\nplt.xticks([0, 1], [\"Didn't leave\", \"Left\"])\nplt.ylabel(\"Proportion of Salary\")\nplt.show()",
      "execution_count": null,
      "outputs": []
    },
    {
      "metadata": {
        "trusted": true,
        "_uuid": "c59b16cc9e84a2afc76a206a65c57adfacdd1c6a"
      },
      "cell_type": "code",
      "source": "# Create dummy variables for department feature\ndf = pd.get_dummies(df, columns=[\"department\"], drop_first=True)\n#df.head()",
      "execution_count": null,
      "outputs": []
    },
    {
      "metadata": {
        "trusted": true,
        "_uuid": "a24194a0a811a821500e028e65884c0d25f2d791"
      },
      "cell_type": "code",
      "source": "# Convert dataframe into numpy objects and split them into train and test sets: 80/20\nX = df.loc[:, df.columns != \"left\"].values\ny = df.loc[:, df.columns == \"left\"].values.flatten()\n\n# Original minority class\nX_train, X_test, y_train, y_test = train_test_split(X, y, test_size=0.2, stratify=y, random_state=1)\n\nprint (\"Original shape:\", X_train.shape, y_train.shape )",
      "execution_count": null,
      "outputs": []
    },
    {
      "metadata": {
        "_uuid": "aef39f82c30ce9a7e68d6a7948a2eba9ea710a72"
      },
      "cell_type": "markdown",
      "source": "## Random Forest"
    },
    {
      "metadata": {
        "trusted": true,
        "_uuid": "dacd4c6ae10e415ffcd5f1f926fbabcb8759ea75"
      },
      "cell_type": "code",
      "source": "# Build random forest classifier\n\npip_rf = make_pipeline(StandardScaler(), RandomForestClassifier(n_estimators=500, class_weight=\"balanced\", random_state=123))\n    \nhyperparam_grid = {\n    'randomforestclassifier__n_estimators': [10, 50, 100, 500],\n    'randomforestclassifier__max_features': [\"sqrt\", \"log2\", 0.4, 0.5],\n    'randomforestclassifier__min_samples_leaf': [1, 3, 5],\n    'randomforestclassifier__criterion': [\"gini\", \"entropy\"]}\n    \ngs_rf = GridSearchCV(pip_rf,\n                    hyperparam_grid,\n                    scoring='f1',\n                    cv=10,\n                    n_jobs=-1)\ngs_rf.fit(X_train, y_train)\n\nfor hyperparam in gs_rf.best_params_.keys():\n    print (hyperparam[hyperparam.find('__') + 2:], ':', gs_rf.best_params_[hyperparam]   )\n    \nprint ('Best 10-folds CV f1-score: {:.2f}%.'.format(gs_rf.best_score_ * 100))",
      "execution_count": null,
      "outputs": []
    },
    {
      "metadata": {
        "trusted": true,
        "_uuid": "074442e0908b994401dd5af8aef92e6bd54046c1"
      },
      "cell_type": "code",
      "source": "print_matrix(gs_rf, X_test, y_test, title='Random Forest')\nprint_roc(gs_rf, X_test, y_test,'Random Forest')",
      "execution_count": null,
      "outputs": []
    },
    {
      "metadata": {
        "_uuid": "1c7b4acafa21bc8625f5e8fdafc1d59bf7565a10"
      },
      "cell_type": "markdown",
      "source": "## K-Nearest Neighbors"
    },
    {
      "metadata": {
        "trusted": true,
        "_uuid": "2227871ed5f8c2d61d493f4bda8974ced2463ac2"
      },
      "cell_type": "code",
      "source": "# Build KNN classifier\npip_knn = make_pipeline(StandardScaler(), KNeighborsClassifier())\nhyperparam_range = range(1, 20)\ngs_knn = GridSearchCV(pip_knn,\n                      param_grid={'kneighborsclassifier__n_neighbors': hyperparam_range,\n                                  'kneighborsclassifier__weights': ['uniform', 'distance']},\n                      scoring='f1',\n                      cv=10,\n                      n_jobs=-1)\ngs_knn.fit(X_train, y_train)\n\nfor hyperparam in gs_knn.best_params_.keys():\n    print (hyperparam[hyperparam.find(\"__\") + 2:], ':', gs_knn.best_params_[hyperparam]) \nprint ('Best 10-folds CV f1-score: {:.2f}%.'.format((gs_knn.best_score_) * 100))",
      "execution_count": null,
      "outputs": []
    },
    {
      "metadata": {
        "trusted": true,
        "_uuid": "7147d0caa7bee224ef9b5251593237aa3bdca64f"
      },
      "cell_type": "code",
      "source": "print_matrix(gs_knn, X_test, y_test, title='K-Nearest Neighbors')\nprint_roc(gs_knn, X_test, y_test,'K-Nearest Neighbors')",
      "execution_count": null,
      "outputs": []
    },
    {
      "metadata": {
        "_uuid": "7edbd85cfeb34cf56376558dc1f9c416b9ee969a"
      },
      "cell_type": "markdown",
      "source": "## Support Vector Machine (SVM)"
    },
    {
      "metadata": {
        "trusted": true,
        "_uuid": "321e5047e8c624cefd45b5102594374902bebc13"
      },
      "cell_type": "code",
      "source": "# Build SVM classifier\nclf_svc = make_pipeline(StandardScaler(),\n                        SVC(C=0.01,\n                            gamma=0.1,\n                            kernel='poly',\n                            degree=5,\n                            coef0=10,\n                            probability=True))\nclf_svc.fit(X_train, y_train)\nsvc_cv_scores = cross_val_score(clf_svc,\n                                X=X_train,\n                                y=y_train,\n                                scoring='f1',\n                                cv=10,\n                                n_jobs=-1)\nprint ('The 10-folds CV f1-score is: {:.2f}%'.format(np.mean(svc_cv_scores) * 100))",
      "execution_count": null,
      "outputs": []
    },
    {
      "metadata": {
        "trusted": true,
        "_uuid": "41ef2f78f46214419f042d48d1e8bb86f1a65e0e"
      },
      "cell_type": "code",
      "source": "print_matrix(clf_svc, X_test, y_test, title='Support Vector Machine')\nprint_roc(clf_svc, X_test, y_test,'Support Vector Machine')",
      "execution_count": null,
      "outputs": []
    },
    {
      "metadata": {
        "trusted": true,
        "_uuid": "a60f5ae8306a4ff1c9fc12289bd73437c2ad1139"
      },
      "cell_type": "code",
      "source": "# Conclusion\ny_pred_rf = gs_rf.predict_proba(X_test)[:, 1]\nfpr_rf_lm, tpr_rf_lm, _ = roc_curve(y_test, y_pred_rf)\nplt.plot(fpr_rf_lm, tpr_rf_lm, label='Random Forest')\n\ny_pred_knn = gs_knn.predict_proba(X_test)[:, 1]\nfpr_knn_lm, tpr_knn_lm, _ = roc_curve(y_test, y_pred_knn)\nplt.plot(fpr_knn_lm, tpr_knn_lm, label='K-Nearest')\n\ny_pred_scv = clf_svc.predict_proba(X_test)[:, 1]\nfpr_scv_lm, tpr_scv_lm, _ = roc_curve(y_test, y_pred_scv)\nplt.plot(fpr_scv_lm, tpr_scv_lm, label='SVM')\n\nplt.plot([0, 1], [0, 1], 'k--')\nplt.xlabel('False positive rate')\nplt.ylabel('True positive rate')\nplt.title('ROC curve')\nplt.legend(loc='best')\nplt.legend()\nplt.show()",
      "execution_count": null,
      "outputs": []
    },
    {
      "metadata": {
        "_uuid": "1080b356948202fc7337f5aa4607f61938f06b98"
      },
      "cell_type": "markdown",
      "source": "## Feature Importance"
    },
    {
      "metadata": {
        "trusted": true,
        "_uuid": "07c5949e7fad21ad277ca4f0b8e2872a02323d05"
      },
      "cell_type": "code",
      "source": "features = gs_rf.best_estimator_.steps[1][1].feature_importances_\nindex = dFrame.columns[dFrame.columns != 'left']\nimp_features = pd.Series(data=features[:9], index=index)\nimp_features.sort_values(ascending=False, inplace=True)\nimp_features.plot(kind='bar')\nplt.show()",
      "execution_count": null,
      "outputs": []
    }
  ],
  "metadata": {
    "kernelspec": {
      "display_name": "Python 3",
      "language": "python",
      "name": "python3"
    },
    "language_info": {
      "name": "python",
      "version": "3.6.6",
      "mimetype": "text/x-python",
      "codemirror_mode": {
        "name": "ipython",
        "version": 3
      },
      "pygments_lexer": "ipython3",
      "nbconvert_exporter": "python",
      "file_extension": ".py"
    }
  },
  "nbformat": 4,
  "nbformat_minor": 1
}