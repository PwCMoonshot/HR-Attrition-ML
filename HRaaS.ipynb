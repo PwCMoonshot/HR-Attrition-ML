{
  "nbformat": 4,
  "nbformat_minor": 0,
  "metadata": {
    "colab": {
      "name": "HRaaS.ipynb",
      "version": "0.3.2",
      "provenance": [],
      "include_colab_link": true
    },
    "kernelspec": {
      "name": "python3",
      "display_name": "Python 3"
    }
  },
  "cells": [
    {
      "cell_type": "markdown",
      "metadata": {
        "id": "view-in-github",
        "colab_type": "text"
      },
      "source": [
        "<a href=\"https://colab.research.google.com/github/PwCMoonshot/HR-Attrition-ML/blob/master/HRaaS.ipynb\" target=\"_parent\"><img src=\"https://colab.research.google.com/assets/colab-badge.svg\" alt=\"Open In Colab\"/></a>"
      ]
    },
    {
      "metadata": {
        "id": "KbkeqFK1DFl3",
        "colab_type": "code",
        "outputId": "095a07a5-4883-467e-c022-1f349452d1e2",
        "colab": {
          "base_uri": "https://localhost:8080/",
          "height": 991
        }
      },
      "cell_type": "code",
      "source": [
        "!pip install -U bigchaindb-driver"
      ],
      "execution_count": 0,
      "outputs": [
        {
          "output_type": "stream",
          "text": [
            "Collecting bigchaindb-driver\n",
            "\u001b[?25l  Downloading https://files.pythonhosted.org/packages/b8/bb/7f32dcc7758c22271c7d4dbfc1619be5950d08ca6e63a05a3c8bdd5de3e5/bigchaindb_driver-0.6.2.tar.gz (511kB)\n",
            "\u001b[K    100% |████████████████████████████████| 512kB 5.5MB/s \n",
            "\u001b[?25hCollecting requests>=2.20.0 (from bigchaindb-driver)\n",
            "\u001b[?25l  Downloading https://files.pythonhosted.org/packages/7d/e3/20f3d364d6c8e5d2353c72a67778eb189176f08e873c9900e10c0287b84b/requests-2.21.0-py2.py3-none-any.whl (57kB)\n",
            "\u001b[K    100% |████████████████████████████████| 61kB 8.9MB/s \n",
            "\u001b[?25hCollecting cryptoconditions==0.8.0 (from bigchaindb-driver)\n",
            "  Downloading https://files.pythonhosted.org/packages/da/3c/b8dca71dc448b6d18a62ab0c1c1a4c732314c72b15294879dd3d432c536d/cryptoconditions-0.8.0.tar.gz\n",
            "Collecting pysha3~=1.0.2 (from bigchaindb-driver)\n",
            "\u001b[?25l  Downloading https://files.pythonhosted.org/packages/32/2a/b93e0c6d90c7c45e2fab35d7ef349e8c5bd7387a048e961b041fd9521556/pysha3-1.0.2-cp36-cp36m-manylinux1_x86_64.whl (127kB)\n",
            "\u001b[K    100% |████████████████████████████████| 133kB 5.2MB/s \n",
            "\u001b[?25hCollecting python-rapidjson~=0.6.0 (from bigchaindb-driver)\n",
            "\u001b[?25l  Downloading https://files.pythonhosted.org/packages/a7/a3/1f6c756e84e60f674651ccb18a80090dddde9501a90f39b21d77e5a13dbd/python_rapidjson-0.6.3-cp36-cp36m-manylinux1_x86_64.whl (1.2MB)\n",
            "\u001b[K    100% |████████████████████████████████| 1.2MB 8.5MB/s \n",
            "\u001b[?25hCollecting python-rapidjson-schema==0.1.1 (from bigchaindb-driver)\n",
            "\u001b[?25l  Downloading https://files.pythonhosted.org/packages/cf/34/9919733dff4468dda60fd7b90a1e6100e64523f568dfadbf6a6dcae2b757/python-rapidjson-schema-0.1.1.tar.gz (119kB)\n",
            "\u001b[K    100% |████████████████████████████████| 122kB 13.0MB/s \n",
            "\u001b[?25hRequirement already satisfied, skipping upgrade: chardet<3.1.0,>=3.0.2 in /usr/local/lib/python3.6/dist-packages (from requests>=2.20.0->bigchaindb-driver) (3.0.4)\n",
            "Requirement already satisfied, skipping upgrade: urllib3<1.25,>=1.21.1 in /usr/local/lib/python3.6/dist-packages (from requests>=2.20.0->bigchaindb-driver) (1.22)\n",
            "Requirement already satisfied, skipping upgrade: certifi>=2017.4.17 in /usr/local/lib/python3.6/dist-packages (from requests>=2.20.0->bigchaindb-driver) (2018.11.29)\n",
            "Requirement already satisfied, skipping upgrade: idna<2.9,>=2.5 in /usr/local/lib/python3.6/dist-packages (from requests>=2.20.0->bigchaindb-driver) (2.6)\n",
            "Collecting base58~=1.0.0 (from cryptoconditions==0.8.0->bigchaindb-driver)\n",
            "  Downloading https://files.pythonhosted.org/packages/09/b2/21ac9591f055acc145afead895edeb73bbd69d95cf366fc5c2233f2434cb/base58-1.0.3-py3-none-any.whl\n",
            "Collecting PyNaCl~=1.1.0 (from cryptoconditions==0.8.0->bigchaindb-driver)\n",
            "\u001b[?25l  Downloading https://files.pythonhosted.org/packages/51/d7/97d167ae204c78d76016f765f16d30309db1ea45b0ff4a9caeda2b355ffe/PyNaCl-1.1.2-cp36-cp36m-manylinux1_x86_64.whl (536kB)\n",
            "\u001b[K    100% |████████████████████████████████| 542kB 10.2MB/s \n",
            "\u001b[?25hRequirement already satisfied, skipping upgrade: pyasn1~=0.4 in /usr/local/lib/python3.6/dist-packages (from cryptoconditions==0.8.0->bigchaindb-driver) (0.4.5)\n",
            "Collecting cryptography~=2.3.1 (from cryptoconditions==0.8.0->bigchaindb-driver)\n",
            "\u001b[?25l  Downloading https://files.pythonhosted.org/packages/59/32/92cade62c645756a83598edf56289e9b19aae5370642a7ce690cd06bc72f/cryptography-2.3.1-cp34-abi3-manylinux1_x86_64.whl (2.1MB)\n",
            "\u001b[K    100% |████████████████████████████████| 2.1MB 10.0MB/s \n",
            "\u001b[?25hRequirement already satisfied, skipping upgrade: six in /usr/local/lib/python3.6/dist-packages (from PyNaCl~=1.1.0->cryptoconditions==0.8.0->bigchaindb-driver) (1.11.0)\n",
            "Requirement already satisfied, skipping upgrade: cffi>=1.4.1 in /usr/local/lib/python3.6/dist-packages (from PyNaCl~=1.1.0->cryptoconditions==0.8.0->bigchaindb-driver) (1.11.5)\n",
            "Collecting asn1crypto>=0.21.0 (from cryptography~=2.3.1->cryptoconditions==0.8.0->bigchaindb-driver)\n",
            "\u001b[?25l  Downloading https://files.pythonhosted.org/packages/ea/cd/35485615f45f30a510576f1a56d1e0a7ad7bd8ab5ed7cdc600ef7cd06222/asn1crypto-0.24.0-py2.py3-none-any.whl (101kB)\n",
            "\u001b[K    100% |████████████████████████████████| 102kB 28.9MB/s \n",
            "\u001b[?25hRequirement already satisfied, skipping upgrade: pycparser in /usr/local/lib/python3.6/dist-packages (from cffi>=1.4.1->PyNaCl~=1.1.0->cryptoconditions==0.8.0->bigchaindb-driver) (2.19)\n",
            "Building wheels for collected packages: bigchaindb-driver, cryptoconditions, python-rapidjson-schema\n",
            "  Running setup.py bdist_wheel for bigchaindb-driver ... \u001b[?25l-\b \b\\\b \bdone\n",
            "\u001b[?25h  Stored in directory: /root/.cache/pip/wheels/c5/45/fa/a173be482e245c04478338ac16a2f18b47e8f8c3ec1d6d7b36\n",
            "  Running setup.py bdist_wheel for cryptoconditions ... \u001b[?25l-\b \b\\\b \bdone\n",
            "\u001b[?25h  Stored in directory: /root/.cache/pip/wheels/f8/0f/10/1c8fe7b487711e97fecc1e89eacec05c7c8adb008764ebf0ab\n",
            "  Running setup.py bdist_wheel for python-rapidjson-schema ... \u001b[?25l-\b \b\\\b \b|\b \bdone\n",
            "\u001b[?25h  Stored in directory: /root/.cache/pip/wheels/d8/39/b0/9178b7edad4c99363255da494f2ace20618c70fcadf5b65482\n",
            "Successfully built bigchaindb-driver cryptoconditions python-rapidjson-schema\n",
            "\u001b[31mspacy 2.0.18 has requirement numpy>=1.15.0, but you'll have numpy 1.14.6 which is incompatible.\u001b[0m\n",
            "\u001b[31mgoogle-colab 0.0.1a1 has requirement requests~=2.18.0, but you'll have requests 2.21.0 which is incompatible.\u001b[0m\n",
            "\u001b[31mcufflinks 0.14.6 has requirement plotly>=3.0.0, but you'll have plotly 1.12.12 which is incompatible.\u001b[0m\n",
            "Installing collected packages: requests, base58, PyNaCl, asn1crypto, cryptography, cryptoconditions, pysha3, python-rapidjson, python-rapidjson-schema, bigchaindb-driver\n",
            "  Found existing installation: requests 2.18.4\n",
            "    Uninstalling requests-2.18.4:\n",
            "      Successfully uninstalled requests-2.18.4\n",
            "Successfully installed PyNaCl-1.1.2 asn1crypto-0.24.0 base58-1.0.3 bigchaindb-driver-0.6.2 cryptoconditions-0.8.0 cryptography-2.3.1 pysha3-1.0.2 python-rapidjson-0.6.3 python-rapidjson-schema-0.1.1 requests-2.21.0\n",
            "\u001b[0;31;1mWARNING: The following packages were previously imported in this runtime:\n",
            "  [requests]\n",
            "You must restart the runtime in order to use newly installed versions.\u001b[0m\n"
          ],
          "name": "stdout"
        }
      ]
    },
    {
      "metadata": {
        "id": "I8_oJkG_DnRY",
        "colab_type": "code",
        "colab": {}
      },
      "cell_type": "code",
      "source": [
        "from bigchaindb_driver import BigchainDB\n",
        "from bigchaindb_driver.crypto import generate_keypair\n",
        "from time import sleep\n",
        "from sys import exit"
      ],
      "execution_count": 0,
      "outputs": []
    },
    {
      "metadata": {
        "id": "vruj2xseDrJI",
        "colab_type": "code",
        "colab": {}
      },
      "cell_type": "code",
      "source": [
        "finance, marketing = generate_keypair(), generate_keypair()\n",
        "\n",
        "bdb_root_url = 'https://test.bigchaindb.com'\n",
        "\n",
        "bdb = BigchainDB(bdb_root_url)\n",
        "\n",
        "LoganMcNeil = {\n",
        "    'data': {\n",
        "        'logan': {\n",
        "            'wid': '3aa5550b7fe348b98d7b5741afc65534',\n",
        "            'date_of_birth': '1971-05-25'\n",
        "        },\n",
        "    },\n",
        "}\n",
        "\n",
        "LoganMcNeil_metadata = {\n",
        "    'position': 'Vice President, Human Resources'\n",
        "}\n"
      ],
      "execution_count": 0,
      "outputs": []
    },
    {
      "metadata": {
        "id": "Q0m9cjNrEGOZ",
        "colab_type": "code",
        "colab": {}
      },
      "cell_type": "code",
      "source": [
        "prepared_create_tx = bdb.transactions.prepare(\n",
        "        operation='CREATE',\n",
        "        signers=finance.public_key,\n",
        "        asset=LoganMcNeil,\n",
        "        metadata=LoganMcNeil_metadata\n",
        "    )"
      ],
      "execution_count": 0,
      "outputs": []
    },
    {
      "metadata": {
        "id": "X-JaMpZyEUZp",
        "colab_type": "code",
        "colab": {}
      },
      "cell_type": "code",
      "source": [
        "fulfilled_creation_tx = bdb.transactions.fulfill(\n",
        "        prepared_create_tx,\n",
        "        private_keys=finance.private_key\n",
        "    )"
      ],
      "execution_count": 0,
      "outputs": []
    },
    {
      "metadata": {
        "id": "_MsHjTrJFRwo",
        "colab_type": "code",
        "colab": {}
      },
      "cell_type": "code",
      "source": [
        "sent_creation_tx = bdb.transactions.send_commit(fulfilled_creation_tx)"
      ],
      "execution_count": 0,
      "outputs": []
    },
    {
      "metadata": {
        "id": "lrKU3yPaE_4x",
        "colab_type": "code",
        "outputId": "eaa0a179-dbff-4d54-968f-2bc4df4bc347",
        "colab": {
          "base_uri": "https://localhost:8080/",
          "height": 35
        }
      },
      "cell_type": "code",
      "source": [
        "sent_creation_tx == fulfilled_creation_tx"
      ],
      "execution_count": 0,
      "outputs": [
        {
          "output_type": "execute_result",
          "data": {
            "text/plain": [
              "True"
            ]
          },
          "metadata": {
            "tags": []
          },
          "execution_count": 7
        }
      ]
    },
    {
      "metadata": {
        "id": "znynBFWSGjOK",
        "colab_type": "code",
        "colab": {}
      },
      "cell_type": "code",
      "source": [
        "txid = fulfilled_creation_tx['id']"
      ],
      "execution_count": 0,
      "outputs": []
    },
    {
      "metadata": {
        "id": "05GG9tN_GuwL",
        "colab_type": "code",
        "outputId": "e0205f67-567a-44a9-9396-463614d51575",
        "colab": {
          "base_uri": "https://localhost:8080/",
          "height": 35
        }
      },
      "cell_type": "code",
      "source": [
        "print(txid)"
      ],
      "execution_count": 0,
      "outputs": [
        {
          "output_type": "stream",
          "text": [
            "37f1511f4a5c8ba0c8b61d8a64c3d593a8cc8729a96587b29ab6b796642e855a\n"
          ],
          "name": "stdout"
        }
      ]
    },
    {
      "metadata": {
        "id": "aof9JigKHFiC",
        "colab_type": "code",
        "outputId": "a18eddf3-8bef-4774-9053-01298f88730e",
        "colab": {
          "base_uri": "https://localhost:8080/",
          "height": 55
        }
      },
      "cell_type": "code",
      "source": [
        "block_height = bdb.blocks.get(txid=fulfilled_creation_tx['id'])\n",
        "block = bdb.blocks.retrieve(str(block_height))\n",
        "print(block)"
      ],
      "execution_count": 0,
      "outputs": [
        {
          "output_type": "stream",
          "text": [
            "{'height': 287311, 'transactions': [{'inputs': [{'owners_before': ['GpbcuZXm4hgEgTAFGJzsDCQZx3gjLLbeUTLkeZgwuQAY'], 'fulfills': None, 'fulfillment': 'pGSAIOsQvu7cFZRStdIZ0FsTMimax7FdpUJHaJvt6cyq9-LFgUCbw3zdwJAsbWZ66jv1rv1e1YPt-feL4ANM-DWcg_PDX5IyuK5AZkjTJKWrhwpVNUiMsTwRa_ztI6RVDKanTTsE'}], 'outputs': [{'public_keys': ['GpbcuZXm4hgEgTAFGJzsDCQZx3gjLLbeUTLkeZgwuQAY'], 'condition': {'details': {'type': 'ed25519-sha-256', 'public_key': 'GpbcuZXm4hgEgTAFGJzsDCQZx3gjLLbeUTLkeZgwuQAY'}, 'uri': 'ni:///sha-256;eAUMSMDpfKuMV7-FunNvP3gw3Mdh-sWNMIOAM0KvIBQ?fpt=ed25519-sha-256&cost=131072'}, 'amount': '1'}], 'operation': 'CREATE', 'metadata': {'position': 'Vice President, Human Resources'}, 'asset': {'data': {'logan': {'wid': '3aa5550b7fe348b98d7b5741afc65534', 'date_of_birth': '1971-05-25'}}}, 'version': '2.0', 'id': '37f1511f4a5c8ba0c8b61d8a64c3d593a8cc8729a96587b29ab6b796642e855a'}]}\n"
          ],
          "name": "stdout"
        }
      ]
    },
    {
      "metadata": {
        "id": "-iGmnTqkHviq",
        "colab_type": "code",
        "colab": {}
      },
      "cell_type": "code",
      "source": [
        "creation_tx = fulfilled_creation_tx\n",
        "\n",
        "asset_id = creation_tx['id']\n",
        "\n",
        "transfer_asset = {\n",
        "     'id': asset_id,\n",
        "}"
      ],
      "execution_count": 0,
      "outputs": []
    },
    {
      "metadata": {
        "id": "puuznKxqHz_S",
        "colab_type": "code",
        "colab": {}
      },
      "cell_type": "code",
      "source": [
        "output_index = 0\n",
        "\n",
        "output = creation_tx['outputs'][output_index]\n",
        "\n",
        "transfer_input = {\n",
        "     'fulfillment': output['condition']['details'],\n",
        "     'fulfills': {\n",
        "          'output_index': output_index,\n",
        "          'transaction_id': creation_tx['id'],\n",
        "      },\n",
        "      'owners_before': output['public_keys'],\n",
        " }\n",
        "\n",
        "prepared_transfer_tx = bdb.transactions.prepare(\n",
        "     operation='TRANSFER',\n",
        "     asset=transfer_asset,\n",
        "     inputs=transfer_input,\n",
        "     recipients=marketing.public_key,\n",
        " )"
      ],
      "execution_count": 0,
      "outputs": []
    },
    {
      "metadata": {
        "id": "STBHqVV3H2pq",
        "colab_type": "code",
        "outputId": "12e24337-06b6-4ea3-ac42-505ac62992a0",
        "colab": {
          "base_uri": "https://localhost:8080/",
          "height": 35
        }
      },
      "cell_type": "code",
      "source": [
        "fulfilled_transfer_tx = bdb.transactions.fulfill(\n",
        "     prepared_transfer_tx,\n",
        "     private_keys=finance.private_key,\n",
        " )\n",
        "\n",
        "fulfilled_transfer_tx['outputs'][0]['public_keys'][0] == marketing.public_key"
      ],
      "execution_count": 0,
      "outputs": [
        {
          "output_type": "execute_result",
          "data": {
            "text/plain": [
              "True"
            ]
          },
          "metadata": {
            "tags": []
          },
          "execution_count": 13
        }
      ]
    },
    {
      "metadata": {
        "id": "kKL3SfgEH7RJ",
        "colab_type": "code",
        "colab": {}
      },
      "cell_type": "code",
      "source": [
        "sent_transfer_tx = bdb.transactions.send_commit(fulfilled_transfer_tx)"
      ],
      "execution_count": 0,
      "outputs": []
    },
    {
      "metadata": {
        "id": "dXI8bOPmICwC",
        "colab_type": "code",
        "outputId": "722cd33e-64ce-4328-b36b-fcfe84736358",
        "colab": {
          "base_uri": "https://localhost:8080/",
          "height": 35
        }
      },
      "cell_type": "code",
      "source": [
        "print(\"Is Jim in Marketing?\",\n",
        "    sent_transfer_tx['outputs'][0]['public_keys'][0] == marketing.public_key)"
      ],
      "execution_count": 0,
      "outputs": [
        {
          "output_type": "stream",
          "text": [
            "Is Jim in Marketing? True\n"
          ],
          "name": "stdout"
        }
      ]
    },
    {
      "metadata": {
        "id": "x7zqMpeeIKMy",
        "colab_type": "code",
        "outputId": "e122d730-4260-4628-ae98-9be8c2d8fc68",
        "colab": {
          "base_uri": "https://localhost:8080/",
          "height": 35
        }
      },
      "cell_type": "code",
      "source": [
        "print(\"Was Jim in Finance?\",\n",
        "    fulfilled_transfer_tx['inputs'][0]['owners_before'][0] == finance.public_key)"
      ],
      "execution_count": 0,
      "outputs": [
        {
          "output_type": "stream",
          "text": [
            "Was Jim in Finance? True\n"
          ],
          "name": "stdout"
        }
      ]
    },
    {
      "metadata": {
        "id": "D-ur-6aSJf6q",
        "colab_type": "code",
        "outputId": "d0ee91f3-5573-4291-f188-62e172ca44cb",
        "colab": {
          "base_uri": "https://localhost:8080/",
          "height": 52
        }
      },
      "cell_type": "code",
      "source": [
        "bdb.metadata.get(search='Administration Assistant')"
      ],
      "execution_count": 0,
      "outputs": [
        {
          "output_type": "execute_result",
          "data": {
            "text/plain": [
              "[{'id': 'd117d761923d0cb4ad2a55418f22afea77f4e945771e04bb2045637b8e621137',\n",
              "  'metadata': {'position': 'Administration Assistant'}}]"
            ]
          },
          "metadata": {
            "tags": []
          },
          "execution_count": 17
        }
      ]
    },
    {
      "metadata": {
        "id": "8jdFu3kNJlvK",
        "colab_type": "code",
        "outputId": "df1151ec-5884-4d8a-96ee-8225fd28f48b",
        "colab": {
          "base_uri": "https://localhost:8080/",
          "height": 35
        }
      },
      "cell_type": "code",
      "source": [
        "bdb.assets.get(search='Jim')"
      ],
      "execution_count": 0,
      "outputs": [
        {
          "output_type": "execute_result",
          "data": {
            "text/plain": [
              "[]"
            ]
          },
          "metadata": {
            "tags": []
          },
          "execution_count": 18
        }
      ]
    },
    {
      "metadata": {
        "id": "oZIwwmbxKn5S",
        "colab_type": "code",
        "outputId": "07a41889-801e-4f86-9c62-e94b57682991",
        "colab": {
          "base_uri": "https://localhost:8080/",
          "height": 55
        }
      },
      "cell_type": "code",
      "source": [
        "print(fulfilled_transfer_tx)"
      ],
      "execution_count": 0,
      "outputs": [
        {
          "output_type": "stream",
          "text": [
            "{'inputs': [{'owners_before': ['GpbcuZXm4hgEgTAFGJzsDCQZx3gjLLbeUTLkeZgwuQAY'], 'fulfills': {'transaction_id': '37f1511f4a5c8ba0c8b61d8a64c3d593a8cc8729a96587b29ab6b796642e855a', 'output_index': 0}, 'fulfillment': 'pGSAIOsQvu7cFZRStdIZ0FsTMimax7FdpUJHaJvt6cyq9-LFgUA2D3XwVRoSrfk8XfLeVIRFwcgCVK8oDi5-ifvhhDcisdqW-gL9rT6L6-g7pY7DhuQAEE0JgrCXgrPCAxVSKO0P'}], 'outputs': [{'public_keys': ['BZSaawkk3En3Kpnqz4tU4btKHZrtJpwzjTjPGroidY5B'], 'condition': {'details': {'type': 'ed25519-sha-256', 'public_key': 'BZSaawkk3En3Kpnqz4tU4btKHZrtJpwzjTjPGroidY5B'}, 'uri': 'ni:///sha-256;zVwQ8LGOLU8aVB7miqq_Va-1fU6ccSK9qXq2abYLdvg?fpt=ed25519-sha-256&cost=131072'}, 'amount': '1'}], 'operation': 'TRANSFER', 'metadata': None, 'asset': {'id': '37f1511f4a5c8ba0c8b61d8a64c3d593a8cc8729a96587b29ab6b796642e855a'}, 'version': '2.0', 'id': '45d0b4aea9b5d62795fe19e40a432d928bef639d2b5fa5b7c54aa67031f3decd'}\n"
          ],
          "name": "stdout"
        }
      ]
    }
  ]
}